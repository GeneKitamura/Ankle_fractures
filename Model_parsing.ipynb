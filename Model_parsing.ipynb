{
 "cells": [
  {
   "cell_type": "code",
   "execution_count": 1,
   "metadata": {},
   "outputs": [
    {
     "name": "stdout",
     "output_type": "stream",
     "text": [
      "/home/gene/PycharmProjects/Machine/Triple_view\n"
     ]
    }
   ],
   "source": [
    "cd Triple_view/"
   ]
  },
  {
   "cell_type": "code",
   "execution_count": 57,
   "metadata": {},
   "outputs": [],
   "source": [
    "import os\n",
    "from glob import glob\n",
    "import re\n",
    "import pickle"
   ]
  },
  {
   "cell_type": "code",
   "execution_count": 43,
   "metadata": {},
   "outputs": [],
   "source": [
    "model_list = ['third_resnet', 'third_single_v3', 'xception_1', 'xception_2', 'xception_aux', 'resnet_aux']\n",
    "model_regex = re.compile(r\"(\\w*-)(\\d+)\\.\")"
   ]
  },
  {
   "cell_type": "code",
   "execution_count": 53,
   "metadata": {},
   "outputs": [],
   "source": [
    "highest_trained_models = {}\n",
    "\n",
    "for i in model_list:\n",
    "    highest_trained_models[i] = []\n",
    "    models_path = os.path.join(i, 'models')\n",
    "    for each_model in os.listdir(models_path):\n",
    "        files_path = os.path.join(models_path, each_model, 'models')\n",
    "        max_num = 0\n",
    "        for file in os.listdir(files_path):\n",
    "            mod_num = model_regex.search(file)\n",
    "            if mod_num is not None:\n",
    "                new_num = int(mod_num.group(2))\n",
    "                if new_num > max_num:\n",
    "                    max_num = new_num\n",
    "        best_model_path = mod_num.group(1) + str(max_num)\n",
    "        highest_trained_models[i].append(os.path.join(files_path, best_model_path))\n",
    "    "
   ]
  },
  {
   "cell_type": "code",
   "execution_count": 56,
   "metadata": {},
   "outputs": [
    {
     "data": {
      "text/plain": [
       "{'resnet_aux': ['resnet_aux/models/LR_6e-06_WD_0.7_A_0.7_D_0.5_E_2000_V_48/models/Adam-242000',\n",
       "  'resnet_aux/models/LR_6e-06_WD_0.4_A_0.4_D_0.5_E_2001_V_48/models/Adam-242121',\n",
       "  'resnet_aux/models/LR_6e-06_WD_1.0_A_1.0_D_0.5_E_2000_V_48/models/Adam-242000'],\n",
       " 'third_resnet': ['third_resnet/models/LR_6e-06_WD_0.9_E_2000_V_48/models/Adam-242000',\n",
       "  'third_resnet/models/LR_6e-06_WD_0.1_E_2000_V_48/models/Adam-242000',\n",
       "  'third_resnet/models/LR_6e-06_WD_0.001_E_2000_V_48/models/Adam-242000',\n",
       "  'third_resnet/models/LR_6e-06_WD_0.01_E_2000_V_48/models/Adam-242000',\n",
       "  'third_resnet/models/LR_6e-06_WD_0.4_E_2000_V_48/models/Adam-242000'],\n",
       " 'third_single_v3': ['third_single_v3/models/LR_6e-06_WD_1.0_A_1.0_D_0.5_E_2000_V_120/models/Adam-98000',\n",
       "  'third_single_v3/models/LR_6e-06_WD_0.7_A_0.3_D_0.5_E_2000_V_120/models/Adam-98000',\n",
       "  'third_single_v3/models/LR_6e-06_WD_0.7_A_0.7_D_0.5_E_2001_V_120/models/Adam-98049',\n",
       "  'third_single_v3/models/LR_6e-06_WD_0.3_A_0.7_D_0.5_E_2000_V_120/models/Adam-98000',\n",
       "  'third_single_v3/models/LR_6e-06_WD_0.4_A_0.7_D_0.5_E_2000_V_120/models/Adam-98000',\n",
       "  'third_single_v3/models/LR_6e-06_WD_0.9_A_0.9_D_0.5_E_2000_V_120/models/Adam-98000'],\n",
       " 'xception_1': ['xception_1/models/LR_4e-06_WD_0.4_E_2000_V_80/models/Adam-146000',\n",
       "  'xception_1/models/LR_4e-06_WD_0.01_E_2000_V_80/models/Adam-146000',\n",
       "  'xception_1/models/LR_4e-06_WD_0.9_E_2000_V_80/models/Adam-146000'],\n",
       " 'xception_2': ['xception_2/models/LR_4e-06_WD_1.0_E_2000_V_80/models/Adam-146000',\n",
       "  'xception_2/models/LR_4e-06_WD_0.001_E_2000_V_80/models/Adam-146000',\n",
       "  'xception_2/models/LR_4e-06_WD_0.1_E_2000_V_80/models/Adam-146000'],\n",
       " 'xception_aux': ['xception_aux/models/LR_6e-06_WD_1.0_A_1.0_D_0.5_E_2001_V_80/models/Adam-146073',\n",
       "  'xception_aux/models/LR_6e-06_WD_0.4_A_0.4_D_0.5_E_2000_V_80/models/Adam-146000',\n",
       "  'xception_aux/models/LR_6e-06_WD_0.7_A_0.7_D_0.5_E_2000_V_80/models/Adam-146000']}"
      ]
     },
     "execution_count": 56,
     "metadata": {},
     "output_type": "execute_result"
    }
   ],
   "source": [
    "highest_trained_models"
   ]
  },
  {
   "cell_type": "code",
   "execution_count": 59,
   "metadata": {},
   "outputs": [],
   "source": [
    "pickle.dump(highest_trained_models, open('highest_trained_models.pkl', 'wb'))"
   ]
  }
 ],
 "metadata": {
  "kernelspec": {
   "display_name": "Python 3",
   "language": "python",
   "name": "python3"
  },
  "language_info": {
   "codemirror_mode": {
    "name": "ipython",
    "version": 3
   },
   "file_extension": ".py",
   "mimetype": "text/x-python",
   "name": "python",
   "nbconvert_exporter": "python",
   "pygments_lexer": "ipython3",
   "version": "3.5.4"
  }
 },
 "nbformat": 4,
 "nbformat_minor": 2
}
