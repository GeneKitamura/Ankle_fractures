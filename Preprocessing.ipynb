{
 "cells": [
  {
   "cell_type": "code",
   "execution_count": 1,
   "metadata": {},
   "outputs": [
    {
     "name": "stdout",
     "output_type": "stream",
     "text": [
      "/home/gene/PycharmProjects/Machine/Triple_view\n"
     ]
    }
   ],
   "source": [
    "cd Triple_view/"
   ]
  },
  {
   "cell_type": "code",
   "execution_count": 11,
   "metadata": {},
   "outputs": [],
   "source": [
    "import numpy as np\n",
    "import tensorflow as tf\n",
    "from sklearn.utils import shuffle\n",
    "from triple_data_utils import _concatenated_check_and_labels, _resize_after_concat, _three_view_show, _unpack_views, _single_views_resize\n",
    "import matplotlib.pyplot as plt\n",
    "from skimage import transform"
   ]
  },
  {
   "cell_type": "code",
   "execution_count": 3,
   "metadata": {},
   "outputs": [
    {
     "name": "stdout",
     "output_type": "stream",
     "text": [
      "3 3\n"
     ]
    }
   ],
   "source": [
    "both_dir = '/home/gene/PycharmProjects/Machine/CNN/large_files'\n",
    "NL_dir = 'all_NL'\n",
    "ABNL_dir = 'all_ABNL'\n",
    "\n",
    "# load the data\n",
    "NL_cases, ABNL_cases = _concatenated_check_and_labels(both_dir, NL_dir, ABNL_dir)\n",
    "# with view expand, total of 298 NL and 298 ABNL cases.  One NL case deleted since it was views of the elbow (?GK_255?)\n",
    "print(len(NL_cases), len(ABNL_cases))"
   ]
  },
  {
   "cell_type": "code",
   "execution_count": 4,
   "metadata": {},
   "outputs": [
    {
     "name": "stdout",
     "output_type": "stream",
     "text": [
      "276 22 0\n",
      "218 75 5\n"
     ]
    }
   ],
   "source": [
    "NL_three, NL_two, NL_one = NL_cases\n",
    "NL_three = shuffle(NL_three)\n",
    "NL_two = shuffle(NL_two)\n",
    "NL_one = shuffle(NL_one)\n",
    "print(len(NL_three), len(NL_two), len(NL_one))\n",
    "ABNL_three, ABNL_two, ABNL_one = ABNL_cases\n",
    "ABNL_three = shuffle(ABNL_three)\n",
    "ABNL_two = shuffle(ABNL_two)\n",
    "ABNL_one = shuffle(ABNL_one)\n",
    "\n",
    "print(len(ABNL_three), len(ABNL_two), len(ABNL_one))"
   ]
  },
  {
   "cell_type": "markdown",
   "metadata": {},
   "source": [
    "## Manual separation of validation and test data from 3 views set"
   ]
  },
  {
   "cell_type": "code",
   "execution_count": 5,
   "metadata": {},
   "outputs": [
    {
     "name": "stdout",
     "output_type": "stream",
     "text": [
      "Three views NL:236 ABNL:178\n",
      "40 (40,) 40 (40,)\n"
     ]
    }
   ],
   "source": [
    "val_triple = NL_three[:20] + ABNL_three[:20]\n",
    "val_y = np.concatenate((np.zeros(len(NL_three[:20])), np.ones(len(ABNL_three[:20]))), axis=0)\n",
    "test_triple = NL_three[20:40] + ABNL_three[20:40]\n",
    "test_y = np.concatenate((np.zeros(len(NL_three[20:40])), np.ones(len(ABNL_three[20:40]))), axis=0)\n",
    "NL_cases_3 = NL_three[40:]\n",
    "ABNL_cases_3 = ABNL_three[40:]\n",
    "print('Three views NL:{} ABNL:{}'.format(len(NL_cases_3), len(ABNL_cases_3)))\n",
    "print(len(val_triple), val_y.shape, len(test_triple), test_y.shape)"
   ]
  },
  {
   "cell_type": "markdown",
   "metadata": {},
   "source": [
    "## Working on training set"
   ]
  },
  {
   "cell_type": "code",
   "execution_count": 8,
   "metadata": {},
   "outputs": [],
   "source": [
    "all_NL_views = _unpack_views(NL_two) + _unpack_views(NL_cases_3)\n",
    "all_ABNL_views = _unpack_views(ABNL_two) + _unpack_views(ABNL_one) + _unpack_views(ABNL_cases_3)\n",
    "tot_y = np.concatenate((np.zeros(len(all_NL_views)), np.ones(len(all_ABNL_views))), axis=0)\n",
    "all_cases = all_NL_views + all_ABNL_views"
   ]
  },
  {
   "cell_type": "code",
   "execution_count": 9,
   "metadata": {},
   "outputs": [
    {
     "name": "stdout",
     "output_type": "stream",
     "text": [
      "689 752\n",
      "(1441,)\n"
     ]
    }
   ],
   "source": [
    "print(len(all_ABNL_views), len(all_NL_views))\n",
    "print(tot_y.shape)"
   ]
  },
  {
   "cell_type": "code",
   "execution_count": 12,
   "metadata": {},
   "outputs": [
    {
     "name": "stdout",
     "output_type": "stream",
     "text": [
      "(1441, 300, 300, 1)\n"
     ]
    }
   ],
   "source": [
    "reshaped_cases = _single_views_resize(all_cases)\n",
    "print(reshaped_cases.shape)"
   ]
  },
  {
   "cell_type": "code",
   "execution_count": 13,
   "metadata": {},
   "outputs": [],
   "source": [
    "reshaped_cases, tot_y = shuffle(reshaped_cases, tot_y)\n",
    "np.save('./../CNN/triple_view_data/reshaped_single_views', reshaped_cases)\n",
    "np.save('./../CNN/triple_view_data/single_views_y', tot_y)"
   ]
  },
  {
   "cell_type": "markdown",
   "metadata": {},
   "source": [
    "## Work of val and test sets"
   ]
  },
  {
   "cell_type": "code",
   "execution_count": 14,
   "metadata": {},
   "outputs": [],
   "source": [
    "val_triple, val_y = shuffle(val_triple, val_y)\n",
    "val_cases = _resize_after_concat(val_triple)\n",
    "test_triple, test_y = shuffle(test_triple, test_y)\n",
    "test_cases = _resize_after_concat(test_triple)"
   ]
  },
  {
   "cell_type": "code",
   "execution_count": 15,
   "metadata": {},
   "outputs": [
    {
     "name": "stdout",
     "output_type": "stream",
     "text": [
      "(40, 3, 300, 300, 1) (40, 3, 300, 300, 1)\n"
     ]
    }
   ],
   "source": [
    "print(val_cases.shape, test_cases.shape)\n",
    "np.save('./../CNN/triple_view_data/val_triple_views', val_cases)\n",
    "np.save('./../CNN/triple_view_data/val_triple_y', val_y)\n",
    "np.save('./../CNN/triple_view_data/test_triple_views', test_cases)\n",
    "np.save('./../CNN/triple_view_data/test_triple_y', test_y)"
   ]
  },
  {
   "cell_type": "markdown",
   "metadata": {},
   "source": [
    "## make sure to run code below first since _resize_after_concat modifies original list"
   ]
  },
  {
   "cell_type": "code",
   "execution_count": 16,
   "metadata": {},
   "outputs": [
    {
     "name": "stdout",
     "output_type": "stream",
     "text": [
      "Three views NL:236 ABNL:178\n",
      "40 (40,) 40 (40,)\n"
     ]
    }
   ],
   "source": [
    "val_triple = NL_three[:20] + ABNL_three[:20]\n",
    "val_y = np.concatenate((np.zeros(len(NL_three[:20])), np.ones(len(NL_three[:20]))), axis=0)\n",
    "test_triple = NL_three[20:40] + ABNL_three[20:40]\n",
    "test_y = np.concatenate((np.zeros(len(NL_three[20:40])), np.ones(len(NL_three[20:40]))), axis=0)\n",
    "NL_cases_3 = NL_three[40:]\n",
    "ABNL_cases_3 = ABNL_three[40:]\n",
    "print('Three views NL:{} ABNL:{}'.format(len(NL_cases_3), len(ABNL_cases_3)))\n",
    "print(len(val_triple), val_y.shape, len(test_triple), test_y.shape)"
   ]
  },
  {
   "cell_type": "code",
   "execution_count": 18,
   "metadata": {},
   "outputs": [],
   "source": [
    "single_view_vals_cases = _single_views_resize(_unpack_views(val_triple))\n",
    "single_view_vals_y = np.array(([0]*20*3 + [1]*20*3), np.int64)\n",
    "single_view_test_cases = _single_views_resize(_unpack_views(test_triple))\n",
    "single_view_test_y = np.array(([0]*20*3 + [1]*20*3), np.int64)"
   ]
  },
  {
   "cell_type": "code",
   "execution_count": 20,
   "metadata": {},
   "outputs": [
    {
     "name": "stdout",
     "output_type": "stream",
     "text": [
      "(120, 300, 300, 1) (120,)\n",
      "(120, 300, 300, 1) (120,)\n"
     ]
    }
   ],
   "source": [
    "single_view_vals_cases, single_view_vals_y = shuffle(single_view_vals_cases, single_view_vals_y)\n",
    "print(single_view_vals_cases.shape, single_view_vals_y.shape)\n",
    "single_view_test_cases, single_view_test_y = shuffle(single_view_test_cases, single_view_test_y)\n",
    "print(single_view_test_cases.shape, single_view_test_y.shape)"
   ]
  },
  {
   "cell_type": "code",
   "execution_count": 21,
   "metadata": {},
   "outputs": [],
   "source": [
    "np.save('./../CNN/triple_view_data/val_single_views', single_view_vals_cases)\n",
    "np.save('./../CNN/triple_view_data/val_single_y', single_view_vals_y)\n",
    "np.save('./../CNN/triple_view_data/test_single_views', single_view_test_cases)\n",
    "np.save('./../CNN/triple_view_data/test_single_y', single_view_test_y)"
   ]
  },
  {
   "cell_type": "code",
   "execution_count": null,
   "metadata": {},
   "outputs": [],
   "source": []
  }
 ],
 "metadata": {
  "kernelspec": {
   "display_name": "Python 3",
   "language": "python",
   "name": "python3"
  },
  "language_info": {
   "codemirror_mode": {
    "name": "ipython",
    "version": 3
   },
   "file_extension": ".py",
   "mimetype": "text/x-python",
   "name": "python",
   "nbconvert_exporter": "python",
   "pygments_lexer": "ipython3",
   "version": "3.5.2"
  }
 },
 "nbformat": 4,
 "nbformat_minor": 2
}
